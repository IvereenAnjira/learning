{
 "cells": [
  {
   "cell_type": "code",
   "execution_count": 2,
   "metadata": {},
   "outputs": [
    {
     "name": "stdout",
     "output_type": "stream",
     "text": [
      "{'status': {'timestamp': '2024-10-29T19:40:22.132Z', 'error_code': 0, 'error_message': None, 'elapsed': 1, 'credit_count': 1, 'notice': None}, 'data': [{'id': 4331, 'name': 'wjktbhwplm', 'symbol': 'we12pfgq7x', 'slug': 'y2jya21gtsf', 'cmc_rank': 3506, 'num_market_pairs': 2685, 'circulating_supply': 3495, 'total_supply': 3021, 'max_supply': 8094, 'infinite_supply': None, 'last_updated': '2024-10-29T19:40:22.131Z', 'date_added': '2024-10-29T19:40:22.131Z', 'tags': ['i0umufy9qfm', 'higcsk3pb2j', 'fxkhwvxsxbq', '02ayz9m302qv', 'phqd88v9lj', 'tblv39h2rx', 'exw0ns9di8o', '9kif6j9mqaj', 'a4wua601gfn', 'se9omu1bf1o'], 'platform': None, 'self_reported_circulating_supply': None, 'self_reported_market_cap': None, 'quote': {'USD': {'price': 0.8169539351265709, 'volume_24h': 464, 'volume_change_24h': 0.27144964027477303, 'percent_change_1h': 0.8926994400581028, 'percent_change_24h': 0.7934428951212487, 'percent_change_7d': 0.37973038045848906, 'market_cap': 0.8848214487860404, 'market_cap_dominance': 6785, 'fully_diluted_market_cap': 0.8743262965620768, 'last_updated': '2024-10-29T19:40:22.131Z'}}}, {'id': 2838, 'name': '5l1a3ez95jm', 'symbol': 'jk9q12jwyh', 'slug': 'da81f7d0mbe', 'cmc_rank': 5266, 'num_market_pairs': 4792, 'circulating_supply': 5569, 'total_supply': 8827, 'max_supply': 5132, 'infinite_supply': None, 'last_updated': '2024-10-29T19:40:22.131Z', 'date_added': '2024-10-29T19:40:22.131Z', 'tags': ['68pf4ctzqyi', 'zqs0zfgbbfe', 'jks29kx6wo', 'q8xfe2yvum8', '70xepn8qr8g', '6i799nfroak', '5azl7vkiwyl', 'n1geyy4876', 'rqr9rj2ejwh', 'k12u7bnd1ri'], 'platform': None, 'self_reported_circulating_supply': None, 'self_reported_market_cap': None, 'quote': {'USD': {'price': 0.1447976148759993, 'volume_24h': 3993, 'volume_change_24h': 0.5642004996944892, 'percent_change_1h': 0.8538660019664193, 'percent_change_24h': 0.8479390833147957, 'percent_change_7d': 0.9277259032152139, 'market_cap': 0.7543500612682059, 'market_cap_dominance': 5062, 'fully_diluted_market_cap': 0.18679290233916412, 'last_updated': '2024-10-29T19:40:22.131Z'}}}, {'id': 1766, 'name': 'rxx9yf22yr', 'symbol': '5pmwqj2v01o', 'slug': 'ip3mz2txvz', 'cmc_rank': 2974, 'num_market_pairs': 8887, 'circulating_supply': 6072, 'total_supply': 2209, 'max_supply': 8767, 'infinite_supply': None, 'last_updated': '2024-10-29T19:40:22.131Z', 'date_added': '2024-10-29T19:40:22.131Z', 'tags': ['3a0a22lsao', 'opxvirvn3c8', '8nyr41yas2x', 'tbq4mx1vvni', '6mg5wdgog9f', 'cocslhuepe9', 'tqttsgsmkv', '4l1y72r75rn', 'f2vtgu068h7', 'm05rw41yah'], 'platform': None, 'self_reported_circulating_supply': None, 'self_reported_market_cap': None, 'quote': {'USD': {'price': 0.33006186933750103, 'volume_24h': 5137, 'volume_change_24h': 0.6095646973419704, 'percent_change_1h': 0.37906438043221935, 'percent_change_24h': 0.7238719781341876, 'percent_change_7d': 0.7456837178337756, 'market_cap': 0.3428016083404877, 'market_cap_dominance': 5307, 'fully_diluted_market_cap': 0.326783837613315, 'last_updated': '2024-10-29T19:40:22.131Z'}}}, {'id': 2933, 'name': 'q4ac131cdio', 'symbol': '014qn68gkwus', 'slug': '3w5u7enndou', 'cmc_rank': 3601, 'num_market_pairs': 2889, 'circulating_supply': 787, 'total_supply': 8503, 'max_supply': 3083, 'infinite_supply': None, 'last_updated': '2024-10-29T19:40:22.131Z', 'date_added': '2024-10-29T19:40:22.131Z', 'tags': ['8qrmfpx6d53', 'ne9pxr7c9np', 'k6m3qbehlnf', '1e6tl6s1rfp', '848mxb4jucm', 'afy3ttjty2n', 'ui2hm1u5x6r', 'l3dr7pdgs28', 'd48foyznagw', '9b20gunlqq'], 'platform': None, 'self_reported_circulating_supply': None, 'self_reported_market_cap': None, 'quote': {'USD': {'price': 0.09774971307861757, 'volume_24h': 5594, 'volume_change_24h': 0.08619481330988488, 'percent_change_1h': 0.8404428130042776, 'percent_change_24h': 0.631473467044557, 'percent_change_7d': 0.9596815719905165, 'market_cap': 0.2637153973473674, 'market_cap_dominance': 2034, 'fully_diluted_market_cap': 0.9078309088564811, 'last_updated': '2024-10-29T19:40:22.131Z'}}}, {'id': 3551, 'name': 'nel4bggbooo', 'symbol': 'adywl0ea2s', 'slug': 'm5p9b8qddvp', 'cmc_rank': 8174, 'num_market_pairs': 9234, 'circulating_supply': 8076, 'total_supply': 1551, 'max_supply': 6061, 'infinite_supply': None, 'last_updated': '2024-10-29T19:40:22.131Z', 'date_added': '2024-10-29T19:40:22.131Z', 'tags': ['m9j61soa3i', '82zmztsohzd', 'vd07ldkevz', 'jqlyegfnidm', 'hrhpsri1kmw', 'swnde9e0m99', '9lpsxqxhh94', '28rnkdimdjw', 'ex89icxe0kk', '0ef8rhu31dee'], 'platform': None, 'self_reported_circulating_supply': None, 'self_reported_market_cap': None, 'quote': {'USD': {'price': 0.09220570296236064, 'volume_24h': 8178, 'volume_change_24h': 0.8394479826680623, 'percent_change_1h': 0.7348985353468662, 'percent_change_24h': 0.25792695990078784, 'percent_change_7d': 0.7910740620689316, 'market_cap': 0.8961900984443685, 'market_cap_dominance': 1129, 'fully_diluted_market_cap': 0.5705633155278698, 'last_updated': '2024-10-29T19:40:22.131Z'}}}, {'id': 3960, 'name': 'afzk9zqvlgs', 'symbol': 'nnfwok8h0oa', 'slug': 'x15u1e2yrl', 'cmc_rank': 8279, 'num_market_pairs': 1943, 'circulating_supply': 8338, 'total_supply': 3944, 'max_supply': 8390, 'infinite_supply': None, 'last_updated': '2024-10-29T19:40:22.131Z', 'date_added': '2024-10-29T19:40:22.131Z', 'tags': ['6u3ffcp05u9', 'ea8xldwebl', 'u8765kkzq', 'qpuk68jb90n', 'p6tk3f3i4y', 'ftsrsgcj8o8', '0bjqmr37we2g', '7fzve565tgb', 'poasdi8oy4r', 'ge1625wfpzd'], 'platform': None, 'self_reported_circulating_supply': None, 'self_reported_market_cap': None, 'quote': {'USD': {'price': 0.9563454644744067, 'volume_24h': 5385, 'volume_change_24h': 0.1684031887354709, 'percent_change_1h': 0.9800751619655967, 'percent_change_24h': 0.5166740816764874, 'percent_change_7d': 0.13123147153721826, 'market_cap': 0.27218709906990446, 'market_cap_dominance': 9200, 'fully_diluted_market_cap': 0.5438625985159129, 'last_updated': '2024-10-29T19:40:22.131Z'}}}, {'id': 908, 'name': 'bxabl75zh', 'symbol': 'z4rthzl33gh', 'slug': '9k9z0s08l3g', 'cmc_rank': 9190, 'num_market_pairs': 1344, 'circulating_supply': 2844, 'total_supply': 447, 'max_supply': 6307, 'infinite_supply': None, 'last_updated': '2024-10-29T19:40:22.131Z', 'date_added': '2024-10-29T19:40:22.131Z', 'tags': ['6umxu5ctjw9', 'qz6a11uwik', 'ktbrqf3xhgs', 'cy5ow1jm14', 'zc4yyksweh', 'd9w2ca2gg3h', 'fteyap904kr', 'zt696novw4', 'prtq9vkoidb', 'lbsnhdm0idd'], 'platform': None, 'self_reported_circulating_supply': None, 'self_reported_market_cap': None, 'quote': {'USD': {'price': 0.6799464891647524, 'volume_24h': 3308, 'volume_change_24h': 0.7931485407606467, 'percent_change_1h': 0.527888071033128, 'percent_change_24h': 0.5559392881010288, 'percent_change_7d': 0.5796387927013318, 'market_cap': 0.03084103987344422, 'market_cap_dominance': 9871, 'fully_diluted_market_cap': 0.9391177944959073, 'last_updated': '2024-10-29T19:40:22.132Z'}}}, {'id': 130, 'name': 'h5rqebhwcav', 'symbol': 'kg0k8i8lc6', 'slug': '1vu04tcotmg', 'cmc_rank': 7279, 'num_market_pairs': 3291, 'circulating_supply': 9898, 'total_supply': 6468, 'max_supply': 7544, 'infinite_supply': None, 'last_updated': '2024-10-29T19:40:22.132Z', 'date_added': '2024-10-29T19:40:22.132Z', 'tags': ['icxga1fjza', 'rcqw4t4hmdb', 'ac36hzckr4k', 't0srv7ttveg', '2a4w6fdbgxx', '48wc1njng', '1waemf3wwey', 'u2kaywr9b8j', 'lg83flbygn', 'vcokjja1nei'], 'platform': None, 'self_reported_circulating_supply': None, 'self_reported_market_cap': None, 'quote': {'USD': {'price': 0.9905638377811516, 'volume_24h': 5748, 'volume_change_24h': 0.2860677426395677, 'percent_change_1h': 0.6966073998646243, 'percent_change_24h': 0.7670949991139329, 'percent_change_7d': 0.6490657106580366, 'market_cap': 0.4971892969015308, 'market_cap_dominance': 7018, 'fully_diluted_market_cap': 0.575992151916964, 'last_updated': '2024-10-29T19:40:22.132Z'}}}, {'id': 4211, 'name': '6744wmfc9xo', 'symbol': '94tnnn32bat', 'slug': 'y375r6vxfu', 'cmc_rank': 4737, 'num_market_pairs': 1240, 'circulating_supply': 5549, 'total_supply': 8728, 'max_supply': 9634, 'infinite_supply': None, 'last_updated': '2024-10-29T19:40:22.132Z', 'date_added': '2024-10-29T19:40:22.132Z', 'tags': ['n66yoa1rbo', 'oqjnc115ggd', '6w5pl3ekldb', 'c26ztzex1g5', 'ub81m1o99x', 'iv0c4peam8f', 'e2qsyqhxxta', 'qf0asarz1li', 'c78xyvqvufl', 'hf6bvmrjdlw'], 'platform': None, 'self_reported_circulating_supply': None, 'self_reported_market_cap': None, 'quote': {'USD': {'price': 0.23994637294548626, 'volume_24h': 6160, 'volume_change_24h': 0.7691938151673203, 'percent_change_1h': 0.6592876844163271, 'percent_change_24h': 0.15918412238104773, 'percent_change_7d': 0.39742523168901545, 'market_cap': 0.5567024666702998, 'market_cap_dominance': 1264, 'fully_diluted_market_cap': 0.13300949932279882, 'last_updated': '2024-10-29T19:40:22.132Z'}}}, {'id': 1326, 'name': '3zdvd28kdyg', 'symbol': '3d9e307pe9w', 'slug': 'rfqpyu6mvu', 'cmc_rank': 1001, 'num_market_pairs': 1387, 'circulating_supply': 8545, 'total_supply': 7345, 'max_supply': 1603, 'infinite_supply': None, 'last_updated': '2024-10-29T19:40:22.132Z', 'date_added': '2024-10-29T19:40:22.132Z', 'tags': ['q3ynekl9rp', 'shyzd1l7rcr', 'mrlbl3jlorh', 'bhv606joh8j', 'y1xzecr0gf', 'e5ilqb5jluq', 'mtqkss3urg', '5bcbgubdv23', 'hqkxfe5ilud', 'f3wn2y1x0li'], 'platform': None, 'self_reported_circulating_supply': None, 'self_reported_market_cap': None, 'quote': {'USD': {'price': 0.23399021416353682, 'volume_24h': 6935, 'volume_change_24h': 0.36979244126688937, 'percent_change_1h': 0.6277310026676974, 'percent_change_24h': 0.13577519210613542, 'percent_change_7d': 0.7026065819347056, 'market_cap': 0.6311906802180907, 'market_cap_dominance': 7315, 'fully_diluted_market_cap': 0.4527591956829484, 'last_updated': '2024-10-29T19:40:22.132Z'}}}]}\n"
     ]
    }
   ],
   "source": [
    "\n",
    "from requests import Request, Session\n",
    "from requests.exceptions import ConnectionError, Timeout, TooManyRedirects\n",
    "import json\n",
    "\n",
    "url = 'https://sandbox-api.coinmarketcap.com/v1/cryptocurrency/listings/latest'\n",
    "parameters = {\n",
    "  'start':'1',\n",
    "  'limit':'5000',\n",
    "  'convert':'USD'\n",
    "}\n",
    "headers = {\n",
    "  'Accepts': 'application/json',\n",
    "  'X-CMC_PRO_API_KEY': 'b54bcf4d-1bca-4e8e-9a24-22ff2c3d462c',\n",
    "}\n",
    "\n",
    "session = Session()\n",
    "session.headers.update(headers)\n",
    "\n",
    "try:\n",
    "  response = session.get(url, params=parameters)\n",
    "  data = json.loads(response.text)\n",
    "  print(data)\n",
    "except (ConnectionError, Timeout, TooManyRedirects) as e:\n",
    "  print(e)"
   ]
  }
 ],
 "metadata": {
  "kernelspec": {
   "display_name": ".venv",
   "language": "python",
   "name": "python3"
  },
  "language_info": {
   "codemirror_mode": {
    "name": "ipython",
    "version": 3
   },
   "file_extension": ".py",
   "mimetype": "text/x-python",
   "name": "python",
   "nbconvert_exporter": "python",
   "pygments_lexer": "ipython3",
   "version": "3.12.4"
  }
 },
 "nbformat": 4,
 "nbformat_minor": 2
}
