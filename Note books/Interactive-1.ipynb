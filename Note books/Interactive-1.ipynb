{
 "cells": [
  {
   "cell_type": "markdown",
   "metadata": {},
   "source": [
    "Connected to .venv (Python 3.12.4)"
   ]
  },
  {
   "cell_type": "code",
   "execution_count": 2,
   "id": "e3b4494f-3ece-46df-a08e-fa6031fee526",
   "metadata": {},
   "outputs": [],
   "source": [
    "from bs4 import BeautifulSoup\n",
    "import requests\n",
    "import time\n",
    "import datetime\n",
    "import smtplib"
   ]
  },
  {
   "cell_type": "code",
   "execution_count": 4,
   "id": "5e5ea3c4-44dd-4f4e-a9d8-5a4f86f31423",
   "metadata": {},
   "outputs": [],
   "source": [
    "URL=\"https://www.amazon.com/Practical-Statistics-Data-Scientists-Essential-ebook/dp/B08712TT3F?crid=2MLEP1LMVQNFO&keywords=Practical+statistics+for+data+scientists&qid=1665198828&qu=eyJxc2MiOiIxLjQ5IiwicXNhIjoiMC44NiIsInFzcCI6IjAuNzQifQ%3D%3D&s=digital-text&sprefix=practical+statistics+for+data+scientists,digital-text,166&sr=1-1&linkCode=sl1&tag=thuvu07-20&linkId=41b055960f33a11559dcb9ac744e69a4&language=en_US&ref_=as_li_ss_tl\"\n",
    "headers={\"User-Agent\": \"Mozilla/5.0 (Windows NT 10.0; Win64; x64) AppleWebKit/537.36 (KHTML, like Gecko) Chrome/129.0.0.0 Safari/537.36\"}\n",
    "page= requests.get(URL, headers=headers)\n",
    "soup1= BeautifulSoup(page.content,'html.parser')"
   ]
  },
  {
   "cell_type": "code",
   "execution_count": 6,
   "metadata": {},
   "outputs": [],
   "source": [
    "soup2= BeautifulSoup(soup1.prettify(),'html.parser')"
   ]
  },
  {
   "cell_type": "code",
   "execution_count": null,
   "metadata": {},
   "outputs": [],
   "source": []
  }
 ],
 "metadata": {
  "kernelspec": {
   "display_name": ".venv",
   "language": "python",
   "name": "python3"
  },
  "language_info": {
   "codemirror_mode": {
    "name": "ipython",
    "version": 3
   },
   "file_extension": ".py",
   "mimetype": "text/x-python",
   "name": "python",
   "nbconvert_exporter": "python",
   "pygments_lexer": "ipython3",
   "version": "3.12.4"
  }
 },
 "nbformat": 4,
 "nbformat_minor": 2
}
