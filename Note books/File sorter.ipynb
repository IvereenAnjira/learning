{
 "cells": [
  {
   "cell_type": "code",
   "execution_count": 1,
   "metadata": {},
   "outputs": [],
   "source": [
    "import os, shutil"
   ]
  },
  {
   "cell_type": "code",
   "execution_count": 2,
   "metadata": {},
   "outputs": [],
   "source": [
    "path = r\"C:/Users/tinka/Desktop/File sorter test ground/\""
   ]
  },
  {
   "cell_type": "code",
   "execution_count": 3,
   "metadata": {},
   "outputs": [],
   "source": [
    "file_name = os.listdir(path)"
   ]
  },
  {
   "cell_type": "code",
   "execution_count": 4,
   "metadata": {},
   "outputs": [],
   "source": [
    "folder_nmae = ['csv files','images','pdf',]\n",
    "\n",
    "for loop in range (0,3):\n",
    "     if not os.path.exists(path + folder_nmae[loop]):\n",
    "        os.makedirs(path + folder_nmae[loop]) \n",
    "\n",
    "for file in file_name:\n",
    "    if \".csv\" in file and not os.path.exists (path + 'csv files/'+ file):\n",
    "        shutil.move(path+file, path + 'csv files/'+ file)\n",
    "    elif \".xlsx\" in file and not os.path.exists (path + 'csv files/'+ file):\n",
    "        shutil.move(path+file, path + 'csv files/'+ file)\n",
    "    elif \".ods\" in file and not os.path.exists (path + 'csv files/'+ file):\n",
    "        shutil.move(path+file, path + 'csv files/'+ file)\n",
    "    elif \".pdf\" in file and not os.path.exists (path + 'pdf/'+ file):\n",
    "        shutil.move(path+file, path + 'pdf/'+ file)\n",
    "    elif \".docx\" in file and not os.path.exists (path + 'pdf/'+ file):\n",
    "        shutil.move(path+file, path + 'pdf/'+ file)\n",
    "    elif \".jpeg\" in file and not os.path.exists (path + 'images/'+ file):\n",
    "        shutil.move(path+file, path + 'images/'+ file)\n"
   ]
  },
  {
   "cell_type": "code",
   "execution_count": null,
   "metadata": {},
   "outputs": [],
   "source": []
  },
  {
   "cell_type": "code",
   "execution_count": null,
   "metadata": {},
   "outputs": [],
   "source": []
  }
 ],
 "metadata": {
  "kernelspec": {
   "display_name": ".venv",
   "language": "python",
   "name": "python3"
  },
  "language_info": {
   "codemirror_mode": {
    "name": "ipython",
    "version": 3
   },
   "file_extension": ".py",
   "mimetype": "text/x-python",
   "name": "python",
   "nbconvert_exporter": "python",
   "pygments_lexer": "ipython3",
   "version": "3.12.4"
  }
 },
 "nbformat": 4,
 "nbformat_minor": 2
}
