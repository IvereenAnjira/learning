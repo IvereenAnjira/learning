{
 "cells": [
  {
   "cell_type": "code",
   "execution_count": 9,
   "metadata": {},
   "outputs": [
    {
     "name": "stdout",
     "output_type": "stream",
     "text": [
      "Enter full name:  Ivy\n",
      "Enter your weight in pounds:  160\n",
      "Enter your height in inchies:  68\n",
      "24.325259515570934\n",
      "Ivy you're normal weight\n"
     ]
    }
   ],
   "source": [
    "name=input(\"Enter full name: \")\n",
    "print(\"Enter full name: \",name)\n",
    "weight=int(input(\"Enter your weight in pounds: \"))\n",
    "print(\"Enter your weight in pounds: \", weight)\n",
    "height=int(input(\"Enter your height in inchies: \"))\n",
    "print(\"Enter your height in inchies: \", height)\n",
    "BMI= (weight*703)/(height*height)\n",
    "print(BMI)\n",
    "\n",
    "if BMI>0.007:\n",
    "    if(BMI<=18.5):\n",
    "        print(name+\" you're under weight\")\n",
    "    elif (BMI<=24.9):\n",
    "        print(name+\" you're normal weight\")\n",
    "    elif (BMI<=29.9):\n",
    "        print(name+\" you're Overweight\")\n",
    "    elif (BMI<=34.9):\n",
    "        print(name+\" you're Obese\")\n",
    "    elif (BMI<=39.9):\n",
    "        print(name+\" you're Severly Obese\")\n",
    "    elif (BMI>=40):\n",
    "        print(name+\" you're Morbidly Obese\")\n",
    "else:\n",
    "    print(\"Enter valid input\")"
   ]
  },
  {
   "cell_type": "code",
   "execution_count": null,
   "metadata": {},
   "outputs": [],
   "source": []
  }
 ],
 "metadata": {
  "kernelspec": {
   "display_name": ".venv",
   "language": "python",
   "name": "python3"
  },
  "language_info": {
   "codemirror_mode": {
    "name": "ipython",
    "version": 3
   },
   "file_extension": ".py",
   "mimetype": "text/x-python",
   "name": "python",
   "nbconvert_exporter": "python",
   "pygments_lexer": "ipython3",
   "version": "3.12.4"
  }
 },
 "nbformat": 4,
 "nbformat_minor": 2
}
